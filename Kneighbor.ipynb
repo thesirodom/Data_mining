{
 "cells": [
  {
   "cell_type": "code",
   "execution_count": 9,
   "metadata": {},
   "outputs": [],
   "source": [
    "from sklearn.neighbors import KNeighborsClassifier"
   ]
  },
  {
   "cell_type": "code",
   "execution_count": 26,
   "metadata": {},
   "outputs": [],
   "source": [
    "x = [[0,0], [1,1], [2,2], [3,3]]\n",
    "class_x = [0, 0, 1, 1]"
   ]
  },
  {
   "cell_type": "code",
   "execution_count": 27,
   "metadata": {},
   "outputs": [
    {
     "name": "stdout",
     "output_type": "stream",
     "text": [
      "[1]\n",
      "[[0.33333333 0.66666667]]\n"
     ]
    }
   ],
   "source": [
    "neigh = KNeighborsClassifier(n_neighbors=3)\n",
    "neigh.fit(x, class_x) \n",
    "print(neigh.predict([[1.5,2]]))\n",
    "print(neigh.predict_proba([[2,2]]))"
   ]
  },
  {
   "cell_type": "code",
   "execution_count": 75,
   "metadata": {},
   "outputs": [
    {
     "data": {
      "image/png": "[encoded data removed]",
      "text/plain": [
       "<Figure size 432x288 with 1 Axes>"
      ]
     },
     "metadata": {},
     "output_type": "display_data"
    }
   ],
   "source": [
    "import matplotlib.pyplot as plt\n",
    "\n",
    "def ArraytoCoor(H):\n",
    "    x_coor = [point[0] for point in H]\n",
    "    y_coor = [point[1] for point in H]\n",
    "    coor=[]\n",
    "    coor.append(x_coor)\n",
    "    coor.append(y_coor)\n",
    "    return coor\n",
    "\n",
    "import random\n",
    "\n",
    "def gencolor(number):\n",
    "    color = []\n",
    "    for i in range(number):\n",
    "        color.append([random.randint(0, 255)/255,\n",
    "                      random.randint(0, 255)/255,\n",
    "                      random.randint(0, 255)/255])\n",
    "    return color\n",
    "\n",
    "sample = ArraytoCoor(x)\n",
    "n_class = len(set(class_x))\n",
    "class_color = gencolor(n_class)\n",
    "\n",
    "for i in range(len(x)):\n",
    "    n_ = [sample[0][i],sample[1][i]]\n",
    "    plt.plot(n_[0],n_[1],'o',color=class_color[class_x[i]])\n",
    "\n",
    "#predict new datapoints\n",
    "new_dp = [[1.5,2],[0,1.5],[3,2.5]]\n",
    "result = neigh.predict(new_dp)\n",
    "coor_dp = ArraytoCoor(new_dp)\n",
    "\n",
    "for i in range(len(new_dp)):\n",
    "    n_ = [coor_dp[0][i],coor_dp[1][i]]\n",
    "    plt.plot(n_[0],n_[1],'^',color=class_color[result[i]])\n",
    "\n",
    "plt.show()"
   ]
  },
  {
   "cell_type": "code",
   "execution_count": 44,
   "metadata": {},
   "outputs": [
    {
     "data": {
      "text/plain": [
       "4"
      ]
     },
     "execution_count": 44,
     "metadata": {},
     "output_type": "execute_result"
    }
   ],
   "source": [
    "len(x)"
   ]
  },
  {
   "cell_type": "code",
   "execution_count": 59,
   "metadata": {},
   "outputs": [
    {
     "data": {
      "text/plain": [
       "array([2, 2, 2, 2, 2, 2, 2, 2, 0, 0, 0, 0, 0, 0, 0, 0, 1, 1, 1, 1, 1, 1,\n",
       "       1, 1], dtype=int32)"
      ]
     },
     "execution_count": 59,
     "metadata": {},
     "output_type": "execute_result"
    }
   ],
   "source": [
    "from sklearn.cluster import KMeans\n",
    "import numpy as np\n",
    "X = np.array([[3, 1], [9, 2], [4, 7],[3,5],[5,5],[7,4],[4,8],[6,2],\n",
    "              [11, 12], [13, 16], [12, 19],[14,14],[14,20],[15,16],[16,18],[11,20],\n",
    "              [25,2],[28,7],[27,6],[29,4],[26,7],[26,8],[30,1],[27,8]])\n",
    "kmeans = KMeans(n_clusters=3, random_state=0).fit(X) #เลือกจน. cluster\n",
    "kmeans.labels_"
   ]
  },
  {
   "cell_type": "code",
   "execution_count": 77,
   "metadata": {},
   "outputs": [
    {
     "data": {
      "image/png": "[encoded data removed]",
      "text/plain": [
       "<Figure size 432x288 with 1 Axes>"
      ]
     },
     "metadata": {},
     "output_type": "display_data"
    }
   ],
   "source": [
    "sample = ArraytoCoor(X)\n",
    "c = kmeans.cluster_centers_\n",
    "cen = ArraytoCoor(c)\n",
    "n_clus = set(kmeans.labels_)\n",
    "number_clusters = len(n_clus) #number of cluster generated\n",
    "color_of_clusters = gencolor(number_clusters)\n",
    "\n",
    "#plot datapoints as o point\n",
    "for i in X:\n",
    "    i.tolist()\n",
    "    plt.plot(i[0],i[1],'o',color=color_of_clusters[kmeans.predict([i])[0]])\n",
    "#plot centroid as X point\n",
    "for i in range(len(cen[0])):\n",
    "    n_cen = [cen[0][i],cen[1][i]]\n",
    "    plt.plot(n_cen[0],n_cen[1],'x',color=color_of_clusters[kmeans.predict([n_cen])[0]])\n",
    "\n",
    "plt.show()"
   ]
  },
  {
   "cell_type": "code",
   "execution_count": 72,
   "metadata": {},
   "outputs": [
    {
     "data": {
      "text/plain": [
       "KNeighborsClassifier(algorithm='auto', leaf_size=30, metric='minkowski',\n",
       "           metric_params=None, n_jobs=1, n_neighbors=3, p=2,\n",
       "           weights='uniform')"
      ]
     },
     "execution_count": 72,
     "metadata": {},
     "output_type": "execute_result"
    }
   ],
   "source": [
    "neigh_km = KNeighborsClassifier(n_neighbors=3)\n",
    "neigh_km.fit(X.tolist(), kmeans.labels_)"
   ]
  },
  {
   "cell_type": "code",
   "execution_count": 84,
   "metadata": {},
   "outputs": [
    {
     "data": {
      "image/png": "[encoded data removed]",
      "text/plain": [
       "<Figure size 432x288 with 1 Axes>"
      ]
     },
     "metadata": {},
     "output_type": "display_data"
    }
   ],
   "source": [
    "#predict new datapoints\n",
    "new_dp = [[15,10],[0,1.5],[25,15],[20,10]]\n",
    "result = neigh_km.predict(new_dp)\n",
    "coor_dp = ArraytoCoor(new_dp)\n",
    "\n",
    "for i in range(len(new_dp)):\n",
    "    n_ = [coor_dp[0][i],coor_dp[1][i]]\n",
    "    plt.plot(n_[0],n_[1],'^',color=color_of_clusters[result[i]],markersize=12)\n",
    "    \n",
    "for i in X:\n",
    "    i.tolist()\n",
    "    plt.plot(i[0],i[1],'o',color=color_of_clusters[kmeans.predict([i])[0]])\n",
    "#plot centroid as X point\n",
    "'''\n",
    "for i in range(len(cen[0])):\n",
    "    n_cen = [cen[0][i],cen[1][i]]\n",
    "    plt.plot(n_cen[0],n_cen[1],'x',color=color_of_clusters[kmeans.predict([n_cen])[0]])\n",
    "'''\n",
    "plt.show()"
   ]
  },
  {
   "cell_type": "code",
   "execution_count": null,
   "metadata": {},
   "outputs": [],
   "source": []
  }
 ],
 "metadata": {
  "kernelspec": {
   "display_name": "Python 3",
   "language": "python",
   "name": "python3"
  },
  "language_info": {
   "codemirror_mode": {
    "name": "ipython",
    "version": 3
   },
   "file_extension": ".py",
   "mimetype": "text/x-python",
   "name": "python",
   "nbconvert_exporter": "python",
   "pygments_lexer": "ipython3",
   "version": "3.6.5"
  }
 },
 "nbformat": 4,
 "nbformat_minor": 2
}
